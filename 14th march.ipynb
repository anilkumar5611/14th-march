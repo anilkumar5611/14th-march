{
 "cells": [
  {
   "cell_type": "code",
   "execution_count": 1,
   "id": "6bf13dfa",
   "metadata": {},
   "outputs": [
    {
     "name": "stdout",
     "output_type": "stream",
     "text": [
      "F-value: 1.0\n",
      "p-value: 0.3465935070873342\n"
     ]
    }
   ],
   "source": [
    "#Q1. F-value and p-value for a Variance Ratio Test:\n",
    "\n",
    "\n",
    "import scipy.stats as stats\n",
    "\n",
    "def calculate_f_value(data1, data2):\n",
    "    f_value, p_value = stats.f_oneway(data1, data2)\n",
    "    return f_value, p_value\n",
    "\n",
    "# Example usage:\n",
    "data1 = [1, 2, 3, 4, 5]\n",
    "data2 = [2, 3, 4, 5, 6]\n",
    "result = calculate_f_value(data1, data2)\n",
    "print(\"F-value:\", result[0])\n",
    "print(\"p-value:\", result[1])"
   ]
  },
  {
   "cell_type": "code",
   "execution_count": 2,
   "id": "72e4eed9",
   "metadata": {},
   "outputs": [
    {
     "name": "stdout",
     "output_type": "stream",
     "text": [
      "Critical F-value: 3.858698666273216\n"
     ]
    }
   ],
   "source": [
    "#Q2. Critical F-value for a Two-Tailed Test:\n",
    "\n",
    "\n",
    "def critical_f_value(alpha, df_num, df_denom):\n",
    "    return stats.f.ppf(1 - alpha / 2, df_num, df_denom)\n",
    "\n",
    "# Example usage:\n",
    "alpha = 0.05\n",
    "df_num = 3\n",
    "df_denom = 20\n",
    "critical_f = critical_f_value(alpha, df_num, df_denom)\n",
    "print(\"Critical F-value:\", critical_f)"
   ]
  },
  {
   "cell_type": "code",
   "execution_count": 5,
   "id": "6c571eda",
   "metadata": {},
   "outputs": [
    {
     "name": "stdout",
     "output_type": "stream",
     "text": [
      "F-value: 0.4030463392763856\n",
      "Degrees of freedom 1: 99\n",
      "Degrees of freedom 2: 99\n",
      "p-value: 9.191624675736852e-06\n"
     ]
    }
   ],
   "source": [
    "#Q3\n",
    "import numpy as np\n",
    "\n",
    "def f_test_for_variances(data1, data2):\n",
    "    var1 = np.var(data1, ddof=1)  # ddof=1 for sample variance\n",
    "    var2 = np.var(data2, ddof=1)\n",
    "    \n",
    "    f_value = var1 / var2\n",
    "    df1 = len(data1) - 1\n",
    "    df2 = len(data2) - 1\n",
    "    \n",
    "    p_value = 2 * min(stats.f.cdf(f_value, df1, df2), 1 - stats.f.cdf(f_value, df1, df2))\n",
    "    \n",
    "    return f_value, df1, df2, p_value\n",
    "\n",
    "# Example usage:\n",
    "np.random.seed(42)\n",
    "data1 = np.random.normal(0, 1, 100)\n",
    "data2 = np.random.normal(0, 1.5, 100)\n",
    "result = f_test_for_variances(data1, data2)\n",
    "print(\"F-value:\", result[0])\n",
    "print(\"Degrees of freedom 1:\", result[1])\n",
    "print(\"Degrees of freedom 2:\", result[2])\n",
    "print(\"p-value:\", result[3])\n"
   ]
  },
  {
   "cell_type": "code",
   "execution_count": 6,
   "id": "5595c883",
   "metadata": {},
   "outputs": [
    {
     "name": "stdout",
     "output_type": "stream",
     "text": [
      "F-statistic: 0.6666666666666666\n",
      "p-value: 0.5123897987357999\n"
     ]
    }
   ],
   "source": [
    "# Q4. F-test for Known Variances:\n",
    "\n",
    "variance1 = 10\n",
    "variance2 = 15\n",
    "n1 = 12\n",
    "n2 = 12\n",
    "\n",
    "f_statistic = variance1 / variance2\n",
    "df1 = n1 - 1\n",
    "df2 = n2 - 1\n",
    "\n",
    "p_value = 2 * min(stats.f.cdf(f_statistic, df1, df2), 1 - stats.f.cdf(f_statistic, df1, df2))\n",
    "\n",
    "print(\"F-statistic:\", f_statistic)\n",
    "print(\"p-value:\", p_value)"
   ]
  },
  {
   "cell_type": "code",
   "execution_count": 8,
   "id": "27195f14",
   "metadata": {},
   "outputs": [
    {
     "name": "stdout",
     "output_type": "stream",
     "text": [
      "F-statistic: 1.2\n",
      "p-value: 0.7407800760081285\n"
     ]
    }
   ],
   "source": [
    "#Q5. F-test for Claimed Variance:\n",
    "\n",
    "claimed_variance = 0.005\n",
    "sample_variance = 0.006\n",
    "n = 25\n",
    "\n",
    "f_statistic = sample_variance / claimed_variance\n",
    "df1 = n - 1\n",
    "df2 = 1\n",
    "\n",
    "p_value = 2 * min(stats.f.cdf(f_statistic, df1, df2), 1 - stats.f.cdf(f_statistic, df1, df2))\n",
    "\n",
    "print(\"F-statistic:\", f_statistic)\n",
    "print(\"p-value:\", p_value)"
   ]
  },
  {
   "cell_type": "code",
   "execution_count": 9,
   "id": "82ff8c33",
   "metadata": {},
   "outputs": [
    {
     "name": "stdout",
     "output_type": "stream",
     "text": [
      "Mean: 1.1111111111111112\n",
      "Variance: 1.0802469135802468\n"
     ]
    }
   ],
   "source": [
    "#Q6. Mean and Variance of F-distribution:\n",
    "\n",
    "def f_distribution_mean_var(df_num, df_denom):\n",
    "    mean = df_denom / (df_denom - 2)\n",
    "    variance = (2 * (df_denom**2) * (df_num + df_denom - 2)) / (df_num * (df_denom - 2)**2 * (df_denom - 4))\n",
    "    return mean, variance\n",
    "\n",
    "# Example usage:\n",
    "df_num = 3\n",
    "df_denom = 20\n",
    "result = f_distribution_mean_var(df_num, df_denom)\n",
    "print(\"Mean:\", result[0])\n",
    "print(\"Variance:\", result[1])"
   ]
  },
  {
   "cell_type": "code",
   "execution_count": null,
   "id": "a331ef8c",
   "metadata": {},
   "outputs": [],
   "source": []
  }
 ],
 "metadata": {
  "kernelspec": {
   "display_name": "Python 3 (ipykernel)",
   "language": "python",
   "name": "python3"
  },
  "language_info": {
   "codemirror_mode": {
    "name": "ipython",
    "version": 3
   },
   "file_extension": ".py",
   "mimetype": "text/x-python",
   "name": "python",
   "nbconvert_exporter": "python",
   "pygments_lexer": "ipython3",
   "version": "3.11.2"
  }
 },
 "nbformat": 4,
 "nbformat_minor": 5
}
